{
 "cells": [
  {
   "cell_type": "code",
   "execution_count": 12,
   "metadata": {
    "collapsed": false
   },
   "outputs": [],
   "source": [
    "import MySQLdb\n",
    "\n"
   ]
  },
  {
   "cell_type": "code",
   "execution_count": 6,
   "metadata": {
    "collapsed": false
   },
   "outputs": [
    {
     "ename": "SyntaxError",
     "evalue": "invalid syntax (<ipython-input-6-61c93b0f95f5>, line 4)",
     "output_type": "error",
     "traceback": [
      "\u001b[1;36m  File \u001b[1;32m\"<ipython-input-6-61c93b0f95f5>\"\u001b[1;36m, line \u001b[1;32m4\u001b[0m\n\u001b[1;33m    (\"localhost\",\"username\",\"passwd\",\"DBNAME\",charset='utf8')\u001b[0m\n\u001b[1;37m                                                     ^\u001b[0m\n\u001b[1;31mSyntaxError\u001b[0m\u001b[1;31m:\u001b[0m invalid syntax\n"
     ]
    }
   ],
   "source": [
    "##原始碼\n",
    "\n",
    "try:\n",
    "  ## 建立DB 連線資訊定設定中文編碼utf-8\n",
    "  db = MySQLdb.connect\n",
    "  (\"localhost\",\"username\",\"passwd\",\"DBNAME\",charset ='utf8')\n",
    "\n",
    "except MySQLdb.Error as e:\n",
    "  print \"Error %d: %s\" % (e.args[0], e.args[1])\n"
   ]
  },
  {
   "cell_type": "code",
   "execution_count": 14,
   "metadata": {
    "collapsed": false,
    "scrolled": true
   },
   "outputs": [],
   "source": [
    "##  自己嚐試發現不要加charset\n",
    "try:\n",
    "  db = MySQLdb.connect\n",
    "  (\"10.120.26.29\",\"root\",\"password\",\"test063002\")\n",
    "\n",
    "except MySQLdb.Error as e:\n",
    "  print \"Error %d: %s\" % (e.args[0], e.args[1])"
   ]
  },
  {
   "cell_type": "code",
   "execution_count": null,
   "metadata": {
    "collapsed": true
   },
   "outputs": [],
   "source": [
    "##source code\n",
    "\n",
    "#coding=UTF-8\n",
    " \n",
    "HOST=\"192.168.121.21\"\n",
    "USER=\"root\"\n",
    "PASS=\"rootpass\"\n",
    "DBNAME=\"dbdata\"\n",
    "PORT=\"3306\"\n",
    " \n",
    "import MySQLdb\n",
    "try:\n",
    "   db = MySQLdb.connect(HOST, USER, PASS, DBNAME, charset='utf8')\n",
    " \n",
    "   # 執行SQL statement\n",
    "   cursor = db.cursor()\n",
    "   cursor.execute(\"SELECT * FROM data\")\n",
    " \n",
    "   # 撈取多筆資料\n",
    "   results = cursor.fetchall()\n",
    " \n",
    "   # 迴圈撈取資料\n",
    "   for record in results:\n",
    "      col0 = record[0]\n",
    "      col1 = record[1]\n",
    "      col2 = record[2]\n",
    "      col3 = record[3]\n",
    " \n",
    "      print \"%s, %s, %s, %s\" % (col0, col1, col2, col3)\n",
    " \n",
    "   # 關閉連線\n",
    "   db.close()\n",
    " \n",
    "except MySQLdb.Error as e:\n",
    "   print \"Error %d: %s\" % (e.args[0], e.args[1])\n",
    "\n",
    "\n"
   ]
  },
  {
   "cell_type": "code",
   "execution_count": 22,
   "metadata": {
    "collapsed": false
   },
   "outputs": [
    {
     "name": "stdout",
     "output_type": "stream",
     "text": [
      "A00101, 穀物類, 大麥, 367\n",
      "A00102, 穀物類, 大麥片, 365\n",
      "A00201, 穀物類, 小米, 370\n",
      "A00301, 穀物類, 糯小米, 360\n",
      "A00401, 穀物類, 小麥, 362\n",
      "A00501, 穀物類, 小麥胚芽, 417\n",
      "A00601, 穀物類, 水餃皮, 262\n",
      "A00602, 穀物類, 春捲皮, 239\n",
      "A00603, 穀物類, 餛飩皮, 269\n"
     ]
    }
   ],
   "source": [
    "##tyr it\n",
    "#coding=UTF-8\n",
    " \n",
    "\n",
    "import MySQLdb\n",
    "try:\n",
    "   db = MySQLdb.connect(\"10.120.26.29\",\"root\",\"password\",\"mydb\",charset='utf8')\n",
    " \n",
    "   # 執行SQL statement\n",
    "   cursor = db.cursor()\n",
    "   cursor.execute(\"SELECT * FROM test063002\")\n",
    " \n",
    "   # 撈取多筆資料\n",
    "   results = cursor.fetchall()\n",
    " \n",
    "   # 迴圈撈取資料\n",
    "   for record in results:\n",
    "      col0 = record[0]\n",
    "      col1 = record[1]\n",
    "      col2 = record[2]\n",
    "      col3 = record[3]\n",
    " \n",
    "      print \"%s, %s, %s, %s\" % (col0, col1, col2, col3)\n",
    " \n",
    "   # 關閉連線\n",
    "   db.close()\n",
    " \n",
    "except MySQLdb.Error as e:\n",
    "   print \"Error %d: %s\" % (e.args[0], e.args[1])"
   ]
  },
  {
   "cell_type": "code",
   "execution_count": 19,
   "metadata": {
    "collapsed": false
   },
   "outputs": [
    {
     "data": {
      "text/plain": [
       "['__call__',\n",
       " '__class__',\n",
       " '__closure__',\n",
       " '__code__',\n",
       " '__defaults__',\n",
       " '__delattr__',\n",
       " '__dict__',\n",
       " '__doc__',\n",
       " '__format__',\n",
       " '__get__',\n",
       " '__getattribute__',\n",
       " '__globals__',\n",
       " '__hash__',\n",
       " '__init__',\n",
       " '__module__',\n",
       " '__name__',\n",
       " '__new__',\n",
       " '__reduce__',\n",
       " '__reduce_ex__',\n",
       " '__repr__',\n",
       " '__setattr__',\n",
       " '__sizeof__',\n",
       " '__str__',\n",
       " '__subclasshook__',\n",
       " 'func_closure',\n",
       " 'func_code',\n",
       " 'func_defaults',\n",
       " 'func_dict',\n",
       " 'func_doc',\n",
       " 'func_globals',\n",
       " 'func_name']"
      ]
     },
     "execution_count": 19,
     "metadata": {},
     "output_type": "execute_result"
    }
   ],
   "source": [
    "dir(MySQLdb.connect)"
   ]
  },
  {
   "cell_type": "code",
   "execution_count": null,
   "metadata": {
    "collapsed": true
   },
   "outputs": [],
   "source": []
  }
 ],
 "metadata": {
  "kernelspec": {
   "display_name": "Python 2",
   "language": "python",
   "name": "python2"
  },
  "language_info": {
   "codemirror_mode": {
    "name": "ipython",
    "version": 2
   },
   "file_extension": ".py",
   "mimetype": "text/x-python",
   "name": "python",
   "nbconvert_exporter": "python",
   "pygments_lexer": "ipython2",
   "version": "2.7.11"
  }
 },
 "nbformat": 4,
 "nbformat_minor": 0
}
