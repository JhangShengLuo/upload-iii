{
 "cells": [
  {
   "cell_type": "code",
   "execution_count": null,
   "metadata": {
    "collapsed": false,
    "scrolled": true
   },
   "outputs": [
    {
     "name": "stdout",
     "output_type": "stream",
     "text": [
      "https://cook1cook.com/recipe/1990 ----------------------------------------存取錯誤----------------------------------------\n",
      "https://cook1cook.com/recipe/1991 ----------------------------------------存取錯誤----------------------------------------\n",
      "https://cook1cook.com/recipe/1992 ----------------------------------------存取錯誤----------------------------------------\n",
      "https://cook1cook.com/recipe/1993 ----------------------------------------存取錯誤----------------------------------------\n",
      "https://cook1cook.com/recipe/1994 ----------------------------------------存取錯誤----------------------------------------\n",
      "https://cook1cook.com/recipe/1995 ,奶油培根意大利粉 ,意大利粉 ,1/4包 ,培根 ,1片 ,鮮奶油 ,適量 ,大蒜 ,少許 ,橄欖油 ,半茶匙 ,芝士粉 ,適量 ,鹽 ,少量 ,30分鐘內 ,1-2人 ,565 ,https://img.cook1cook.com/upload/cover/1/0/24532139574717710_thumb.jpg\n",
      "https://cook1cook.com/recipe/1996 ,蔥油麵 ,蔥 ,一大把 ,細麵條 ,適量 ,油 ,一飯碗 ,醬油 ,一飯碗 ,糖 ,3大匙 ,30分鐘內 ,3-4人 ,781 ,https://img.cook1cook.com/upload/cover/1/0/24532139574791210_thumb.jpg\n",
      "https://cook1cook.com/recipe/1997 ,黑椒香蒜意大利麵 ,意大利麵 ,150克 ,蒜末 ,10幾瓣 ,培根 ,3片切碎 ,黑胡椒碎 ,少許 ,海鹽 ,少許 ,1小時內 ,1-2人 ,245 ,https://img.cook1cook.com/upload/cover/6/7/24532139574855667_thumb.jpg\n",
      "https://cook1cook.com/recipe/1998 ,火腿煎蛋三文治 ,方包 ,3片 ,火腿 ,1塊 ,青瓜 ,1根 ,雞蛋 ,1個 ,芝士片 ,1片 ,沙拉醬 ,適量 ,鹽 ,適量 ,15分鐘內 ,1-2人 ,1026 ,https://img.cook1cook.com/upload/cover/8/1/24532139574994781_thumb.jpg\n",
      "https://cook1cook.com/recipe/1999 ,吐司太陽蛋披薩 ,吐司 ,2片 ,蕃茄醬 ,2勺 ,蘑菇 ,1個 ,玉米粒 ,半把 ,胡蘿蔔 ,1/3根 ,培根 ,1-2片 ,黑胡椒 ,少許 ,芝士碎 ,少許 ,鹽 ,少許 ,30分鐘內 ,1-2人 ,572 ,https://img.cook1cook.com/upload/cover/4/2/24532139575056942_thumb.jpg\n",
      "https://cook1cook.com/recipe/2000 ,玉子燒 ,雞蛋 ,3個 ,牛奶 ,1-2大勺 ,糖 ,1大勺 ,鹽 ,1/2小勺 ,油 ,少許 ,15分鐘內 ,1-2人 ,374 ,https://img.cook1cook.com/upload/cover/0/5/24532139575147505_thumb.jpg\n",
      "https://cook1cook.com/recipe/2001 ,心形煎雞蛋 ,雞蛋 ,1個 ,香腸 ,1根 ,鹽、胡椒 ,適量 ,水 ,少許 ,牙籤 ,1根 ,5分鐘內 ,1-2人 ,493 ,https://img.cook1cook.com/upload/cover/3/6/24532139575225336_thumb.jpg\n",
      "https://cook1cook.com/recipe/2002 ,熱香餅(pancake) ,牛奶 ,一盒 ,麵粉 ,250g ,雞蛋 ,2個 ,無鹽黃油 ,適量 ,糖 ,適量 ,鹽 ,適量 ,30分鐘內 ,1-2人 ,4757 ,https://img.cook1cook.com/upload/cover/2/1/24532139575302521_thumb.jpg\n",
      "https://cook1cook.com/recipe/2003 ,自製健康油條 ,麵粉 ,300克 ,清水 ,170~180克 ,酵母粉 ,5克 ,蘇打 ,2克 ,食用油 ,15克 ,鹽 ,3克 ,1小時內 ,1-2人 ,5475 ,https://img.cook1cook.com/upload/cover/5/1/24531139575392651_thumb.jpg\n",
      "https://cook1cook.com/recipe/2004 ,茶葉蛋 ,雞蛋 ,8隻 ,八角 ,3顆 ,煎茶茶包 ,4包 ,生抽 ,適量 ,老抽 ,適量 ,鹽 ,2小勺 ,糖 ,4小勺 ,香油 ,1滴 ,1小時以上 ,7-8人 ,239 ,https://img.cook1cook.com/upload/cover/9/5/24531139575497195_thumb.jpg\n",
      "https://cook1cook.com/recipe/2005 ,西多士 ,吐司片 ,4片 ,芝士片 ,4片 ,火腿 ,2片 ,雞蛋 ,1個 ,牛奶 ,適量 ,15分鐘內 ,1-2人 ,1785 ,https://img.cook1cook.com/upload/cover/6/1/24531139575722561_thumb.jpg\n",
      "https://cook1cook.com/recipe/2006 ,美式炒蛋 ,雞蛋 ,2個 ,低脂牛奶 ,2茶匙 ,黃油 ,適量 ,鹽 ,適量 ,黑胡椒粉 ,適量 ,15分鐘內 ,1-2人 ,1687 ,https://img.cook1cook.com/upload/cover/5/6/24531139575794156_thumb.jpg\n",
      "https://cook1cook.com/recipe/2007 ,鮮肉包子 ,麵粉 ,400克 ,豬肉 ,適量 ,溫牛奶 ,190ml ,白糖 ,20ml ,鹽 ,少許 ,酵母 ,7ml ,蔥 ,適量 ,糖 ,少許 ,蠔油 ,少許 ,料酒 ,少許 ,香油 ,少許 ,生抽 ,少許 ,自製素高湯 ,少許 ,1小時內 ,3-4人 ,986 ,https://img.cook1cook.com/upload/cover/5/8/24531139575837058_thumb.jpg\n",
      "https://cook1cook.com/recipe/2008 ,三色蒸蛋 ,雞蛋 ,3個 ,皮蛋 ,3個 ,熟鴨蛋 ,3個 ,豬油 ,6克 ,香油 ,6克 ,高湯 ,1大匙 ,30分鐘內 ,3-4人 ,382 ,https://img.cook1cook.com/upload/cover/8/8/24531139576073088_thumb.jpg\n",
      "https://cook1cook.com/recipe/2009 ,蝦仁蒸蛋 ,雞蛋 ,四個 ,蝦仁 ,若干 ,鹽式醬油 ,適量 ,30分鐘內 ,3-4人 ,253 ,https://img.cook1cook.com/upload/cover/5/7/24531139576091657_thumb.jpg\n",
      "https://cook1cook.com/recipe/2010 ,蒸水蛋 ,雞蛋 ,2隻 ,溫開水 ,少量 ,鹽 ,少量 ,海鮮醬油 ,少量 ,30分鐘內 ,3-4人 ,552 ,https://img.cook1cook.com/upload/cover/4/9/24531139576217549_thumb.jpg\n",
      "https://cook1cook.com/recipe/2011 ----------------------------------------存取錯誤----------------------------------------\n",
      "https://cook1cook.com/recipe/2012 ----------------------------------------存取錯誤----------------------------------------\n",
      "https://cook1cook.com/recipe/2013 ----------------------------------------存取錯誤----------------------------------------\n",
      "https://cook1cook.com/recipe/2014 ----------------------------------------存取錯誤----------------------------------------\n",
      "https://cook1cook.com/recipe/2015 ----------------------------------------存取錯誤----------------------------------------\n",
      "https://cook1cook.com/recipe/2016 ----------------------------------------存取錯誤----------------------------------------\n",
      "https://cook1cook.com/recipe/2017 ----------------------------------------存取錯誤----------------------------------------\n",
      "https://cook1cook.com/recipe/2018 ----------------------------------------存取錯誤----------------------------------------\n",
      "https://cook1cook.com/recipe/2019 ----------------------------------------存取錯誤----------------------------------------\n",
      "https://cook1cook.com/recipe/2020 ----------------------------------------存取錯誤----------------------------------------\n",
      "https://cook1cook.com/recipe/2021 ----------------------------------------存取錯誤----------------------------------------\n",
      "https://cook1cook.com/recipe/2022 ----------------------------------------存取錯誤----------------------------------------\n",
      "https://cook1cook.com/recipe/2023 ----------------------------------------存取錯誤----------------------------------------\n",
      "https://cook1cook.com/recipe/2024 ----------------------------------------存取錯誤----------------------------------------\n",
      "----------------------------------------存取錯誤----------------------------------------\n",
      "https://cook1cook.com/recipe/2026 ----------------------------------------存取錯誤----------------------------------------\n"
     ]
    }
   ],
   "source": [
    "import requests\n",
    "import io\n",
    "from bs4 import BeautifulSoup\n",
    "\n",
    "with open('cook1cook05_19.txt','w') as f:\n",
    "    for i in range(1990,24000):\n",
    "        \n",
    "        try:\n",
    "            soup=BeautifulSoup(requests.get('https://cook1cook.com/recipe/{}'.format(i)).text)\n",
    "            print ('https://cook1cook.com/recipe/{}'.format(i)),\n",
    "            f.write(('https://cook1cook.com/recipe/{}'.format(i)+',').encode('utf-8'))\n",
    "            print ','+soup.select('#main .hidden-phone')[0].text,\n",
    "            f.write((soup.select('#main .hidden-phone')[0].text).encode('utf-8'))\n",
    "            for ele in soup.select('.section-row span'):\n",
    "                print ','+ele.text.strip(),\n",
    "                f.write((','+ele.text.strip()).encode('utf-8'))\n",
    "            for ele in soup.select('.row-value'):\n",
    "                print ','+ele.text.strip(),\n",
    "                f.write((','+ele.text.strip()).encode('utf-8'))\n",
    "            print ','+soup.select('.fancybox img')[0]['src']\n",
    "            f.write((','+soup.select('.fancybox img')[0]['src']).encode('utf-8'))\n",
    "            f.write('\\n')\n",
    "        except:\n",
    "            print \"----------------------------------------存取錯誤----------------------------------------\""
   ]
  },
  {
   "cell_type": "code",
   "execution_count": null,
   "metadata": {
    "collapsed": false
   },
   "outputs": [],
   "source": []
  },
  {
   "cell_type": "code",
   "execution_count": null,
   "metadata": {
    "collapsed": false
   },
   "outputs": [],
   "source": []
  },
  {
   "cell_type": "code",
   "execution_count": null,
   "metadata": {
    "collapsed": true
   },
   "outputs": [],
   "source": []
  }
 ],
 "metadata": {
  "kernelspec": {
   "display_name": "Python 2",
   "language": "python",
   "name": "python2"
  },
  "language_info": {
   "codemirror_mode": {
    "name": "ipython",
    "version": 2
   },
   "file_extension": ".py",
   "mimetype": "text/x-python",
   "name": "python",
   "nbconvert_exporter": "python",
   "pygments_lexer": "ipython2",
   "version": "2.7.11"
  }
 },
 "nbformat": 4,
 "nbformat_minor": 0
}
