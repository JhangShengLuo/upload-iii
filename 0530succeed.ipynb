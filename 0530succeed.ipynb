{
 "cells": [
  {
   "cell_type": "code",
   "execution_count": 15,
   "metadata": {
    "collapsed": false
   },
   "outputs": [],
   "source": [
    "import requests\n",
    "import io\n",
    "from bs4 import BeautifulSoup\n",
    "\n",
    "with open('cook1cook05_29_1.txt','w') as f:\n",
    "    for i in range(1990,24000):\n",
    "        try:\n",
    "            soup=BeautifulSoup(requests.get('https://cook1cook.com/recipe/{}'.format(i)).text)\n",
    "            if len(soup.select('.hidden-phone')) > 0:\n",
    "#                 print ('https://cook1cook.com/recipe/{}'.format(i)),\n",
    "                f.write(('https://cook1cook.com/recipe/{}'.format(i)+',').encode('utf-8'))\n",
    "#                 print ','+soup.select('#main .hidden-phone')[0].text,\n",
    "                f.write((soup.select('#main .hidden-phone')[0].text).encode('utf-8'))   \n",
    "                for ele in soup.select('.section-row span'):\n",
    "#                     print ','+ele.text.strip(),\n",
    "                    f.write((','+ele.text.strip()).encode('utf-8'))\n",
    "                for ele in soup.select('.row-value'):\n",
    "#                     print ','+ele.text.strip(),\n",
    "                    f.write((','+ele.text.strip()).encode('utf-8'))\n",
    "                for steps in soup.select('.how-to-lists li'):\n",
    "#                     print repr(steps.text.strip()) #檢查字串內是否有'/n' or '/t'\n",
    "#                     print ','+' '.join(steps.text.strip().split()), # 使用spilt()去掉'/n''/t'再用' '.join()連接\n",
    "                    f.write((','+' '.join(steps.text.strip().split())).encode('utf-8'))\n",
    "#                print ','+soup.select('.fancybox img')[0]['src']\n",
    "                f.write((','+soup.select('.fancybox img')[0]['src']).encode('utf-8'))\n",
    "                f.write('\\n')\n",
    "        except:\n",
    "            print \"----------------------------------------存取錯誤----------------------------------------\""
   ]
  },
  {
   "cell_type": "code",
   "execution_count": null,
   "metadata": {
    "collapsed": true
   },
   "outputs": [],
   "source": []
  }
 ],
 "metadata": {
  "kernelspec": {
   "display_name": "Python 2",
   "language": "python",
   "name": "python2"
  },
  "language_info": {
   "codemirror_mode": {
    "name": "ipython",
    "version": 2
   },
   "file_extension": ".py",
   "mimetype": "text/x-python",
   "name": "python",
   "nbconvert_exporter": "python",
   "pygments_lexer": "ipython2",
   "version": "2.7.11"
  }
 },
 "nbformat": 4,
 "nbformat_minor": 0
}
